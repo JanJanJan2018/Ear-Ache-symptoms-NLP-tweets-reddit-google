{
 "cells": [
  {
   "cell_type": "markdown",
   "metadata": {},
   "source": [
    "## Ear Ache abstracts pulled from 10 PubMed articles on 'Earache'"
   ]
  },
  {
   "cell_type": "code",
   "execution_count": 1,
   "metadata": {},
   "outputs": [],
   "source": [
    "%matplotlib inline \n",
    "import pandas as pd \n",
    "import matplotlib.pyplot as plt \n",
    "from textblob import TextBlob \n",
    "import numpy as np \n",
    "from sklearn.feature_extraction.text import CountVectorizer \n",
    "from sklearn.naive_bayes import MultinomialNB \n",
    "from sklearn.metrics import classification_report, f1_score, accuracy_score, confusion_matrix \n",
    " \n",
    "np.random.seed(507) \n",
    " \n"
   ]
  },
  {
   "cell_type": "code",
   "execution_count": 43,
   "metadata": {},
   "outputs": [],
   "source": [
    "reviews = pd.read_csv('LemmatizedEarAchePain.csv', encoding = 'unicode_escape') \n",
    "#the encoding needed for python3 handling nonASCII chars\n"
   ]
  },
  {
   "cell_type": "code",
   "execution_count": 44,
   "metadata": {},
   "outputs": [
    {
     "data": {
      "text/html": [
       "<div>\n",
       "<style scoped>\n",
       "    .dataframe tbody tr th:only-of-type {\n",
       "        vertical-align: middle;\n",
       "    }\n",
       "\n",
       "    .dataframe tbody tr th {\n",
       "        vertical-align: top;\n",
       "    }\n",
       "\n",
       "    .dataframe thead th {\n",
       "        text-align: right;\n",
       "    }\n",
       "</style>\n",
       "<table border=\"1\" class=\"dataframe\">\n",
       "  <thead>\n",
       "    <tr style=\"text-align: right;\">\n",
       "      <th></th>\n",
       "      <th>lemmatizedAbstract</th>\n",
       "      <th>abstract</th>\n",
       "      <th>source</th>\n",
       "      <th>pain</th>\n",
       "    </tr>\n",
       "  </thead>\n",
       "  <tbody>\n",
       "    <tr>\n",
       "      <td>0</td>\n",
       "      <td>Earache be one of the much common symptom for ...</td>\n",
       "      <td>Earache is one of the most common symptom for ...</td>\n",
       "      <td>PubMedAbstracts</td>\n",
       "      <td>yes</td>\n",
       "    </tr>\n",
       "    <tr>\n",
       "      <td>1</td>\n",
       "      <td>Introduction? a earache ( otalgia or ear pain ...</td>\n",
       "      <td>Introduction?An earache (otalgia or ear pain) ...</td>\n",
       "      <td>PubMedAbstracts</td>\n",
       "      <td>yes</td>\n",
       "    </tr>\n",
       "    <tr>\n",
       "      <td>2</td>\n",
       "      <td>Otalgia be a common symptom in general practic...</td>\n",
       "      <td>Otalgia is a common symptom in general practic...</td>\n",
       "      <td>PubMedAbstracts</td>\n",
       "      <td>yes</td>\n",
       "    </tr>\n",
       "    <tr>\n",
       "      <td>3</td>\n",
       "      <td>OBJECTIVE: To examine whether watchful wait be...</td>\n",
       "      <td>OBJECTIVE:\\r\\n\\r\\nTo examine whether watchful ...</td>\n",
       "      <td>PubMedAbstracts</td>\n",
       "      <td>no</td>\n",
       "    </tr>\n",
       "    <tr>\n",
       "      <td>4</td>\n",
       "      <td>BACKGROUND: Information on patient symptom can...</td>\n",
       "      <td>BACKGROUND:\\r\\n\\r\\nInformation on patient symp...</td>\n",
       "      <td>PubMedAbstracts</td>\n",
       "      <td>no</td>\n",
       "    </tr>\n",
       "    <tr>\n",
       "      <td>5</td>\n",
       "      <td>Many patient in primary care present with ear ...</td>\n",
       "      <td>Many patients in primary care present with ear...</td>\n",
       "      <td>PubMedAbstracts</td>\n",
       "      <td>yes</td>\n",
       "    </tr>\n",
       "    <tr>\n",
       "      <td>6</td>\n",
       "      <td>Many patient who present with otalgia have a n...</td>\n",
       "      <td>Many patients who present with otalgia have a ...</td>\n",
       "      <td>PubMedAbstracts</td>\n",
       "      <td>yes</td>\n",
       "    </tr>\n",
       "    <tr>\n",
       "      <td>7</td>\n",
       "      <td>The patient present with otalgia pose a diagno...</td>\n",
       "      <td>The patient presenting with otalgia poses a di...</td>\n",
       "      <td>PubMedAbstracts</td>\n",
       "      <td>yes</td>\n",
       "    </tr>\n",
       "    <tr>\n",
       "      <td>8</td>\n",
       "      <td>The importance of the cervical spine in routin...</td>\n",
       "      <td>The importance of the cervical spine in routin...</td>\n",
       "      <td>PubMedAbstracts</td>\n",
       "      <td>no</td>\n",
       "    </tr>\n",
       "    <tr>\n",
       "      <td>9</td>\n",
       "      <td>BACKGROUND: Otalgia be a common present sympto...</td>\n",
       "      <td>BACKGROUND:\\r\\n\\r\\nOtalgia is a common present...</td>\n",
       "      <td>PubMedAbstracts</td>\n",
       "      <td>no</td>\n",
       "    </tr>\n",
       "  </tbody>\n",
       "</table>\n",
       "</div>"
      ],
      "text/plain": [
       "                                  lemmatizedAbstract  \\\n",
       "0  Earache be one of the much common symptom for ...   \n",
       "1  Introduction? a earache ( otalgia or ear pain ...   \n",
       "2  Otalgia be a common symptom in general practic...   \n",
       "3  OBJECTIVE: To examine whether watchful wait be...   \n",
       "4  BACKGROUND: Information on patient symptom can...   \n",
       "5  Many patient in primary care present with ear ...   \n",
       "6  Many patient who present with otalgia have a n...   \n",
       "7  The patient present with otalgia pose a diagno...   \n",
       "8  The importance of the cervical spine in routin...   \n",
       "9  BACKGROUND: Otalgia be a common present sympto...   \n",
       "\n",
       "                                            abstract           source pain  \n",
       "0  Earache is one of the most common symptom for ...  PubMedAbstracts  yes  \n",
       "1  Introduction?An earache (otalgia or ear pain) ...  PubMedAbstracts  yes  \n",
       "2  Otalgia is a common symptom in general practic...  PubMedAbstracts  yes  \n",
       "3  OBJECTIVE:\\r\\n\\r\\nTo examine whether watchful ...  PubMedAbstracts   no  \n",
       "4  BACKGROUND:\\r\\n\\r\\nInformation on patient symp...  PubMedAbstracts   no  \n",
       "5  Many patients in primary care present with ear...  PubMedAbstracts  yes  \n",
       "6  Many patients who present with otalgia have a ...  PubMedAbstracts  yes  \n",
       "7  The patient presenting with otalgia poses a di...  PubMedAbstracts  yes  \n",
       "8  The importance of the cervical spine in routin...  PubMedAbstracts   no  \n",
       "9  BACKGROUND:\\r\\n\\r\\nOtalgia is a common present...  PubMedAbstracts   no  "
      ]
     },
     "execution_count": 44,
     "metadata": {},
     "output_type": "execute_result"
    }
   ],
   "source": [
    "reviews\n"
   ]
  },
  {
   "cell_type": "code",
   "execution_count": 45,
   "metadata": {},
   "outputs": [
    {
     "data": {
      "text/plain": [
       "(10, 4)"
      ]
     },
     "execution_count": 45,
     "metadata": {},
     "output_type": "execute_result"
    }
   ],
   "source": [
    "reviews.shape"
   ]
  },
  {
   "cell_type": "code",
   "execution_count": 46,
   "metadata": {},
   "outputs": [
    {
     "name": "stdout",
     "output_type": "stream",
     "text": [
      "                                  lemmatizedAbstract  \\\n",
      "6  Many patient who present with otalgia have a n...   \n",
      "3  OBJECTIVE: To examine whether watchful wait be...   \n",
      "4  BACKGROUND: Information on patient symptom can...   \n",
      "8  The importance of the cervical spine in routin...   \n",
      "2  Otalgia be a common symptom in general practic...   \n",
      "9  BACKGROUND: Otalgia be a common present sympto...   \n",
      "5  Many patient in primary care present with ear ...   \n",
      "7  The patient present with otalgia pose a diagno...   \n",
      "0  Earache be one of the much common symptom for ...   \n",
      "1  Introduction? a earache ( otalgia or ear pain ...   \n",
      "\n",
      "                                            abstract           source pain  \n",
      "6  Many patients who present with otalgia have a ...  PubMedAbstracts  yes  \n",
      "3  OBJECTIVE:\\r\\n\\r\\nTo examine whether watchful ...  PubMedAbstracts   no  \n",
      "4  BACKGROUND:\\r\\n\\r\\nInformation on patient symp...  PubMedAbstracts   no  \n",
      "8  The importance of the cervical spine in routin...  PubMedAbstracts   no  \n",
      "2  Otalgia is a common symptom in general practic...  PubMedAbstracts  yes  \n",
      "9  BACKGROUND:\\r\\n\\r\\nOtalgia is a common present...  PubMedAbstracts   no  \n",
      "5  Many patients in primary care present with ear...  PubMedAbstracts  yes  \n",
      "7  The patient presenting with otalgia poses a di...  PubMedAbstracts  yes  \n",
      "0  Earache is one of the most common symptom for ...  PubMedAbstracts  yes  \n",
      "1  Introduction?An earache (otalgia or ear pain) ...  PubMedAbstracts  yes  \n"
     ]
    }
   ],
   "source": [
    "reviews = reviews.reindex(np.random.permutation(reviews.index))\n",
    "\n",
    "print(reviews)"
   ]
  },
  {
   "cell_type": "code",
   "execution_count": 47,
   "metadata": {},
   "outputs": [
    {
     "name": "stdout",
     "output_type": "stream",
     "text": [
      "                                  lemmatizedAbstract  \\\n",
      "6  Many patient who present with otalgia have a n...   \n",
      "3  OBJECTIVE: To examine whether watchful wait be...   \n",
      "4  BACKGROUND: Information on patient symptom can...   \n",
      "8  The importance of the cervical spine in routin...   \n",
      "2  Otalgia be a common symptom in general practic...   \n",
      "\n",
      "                                            abstract           source pain  \\\n",
      "6  Many patients who present with otalgia have a ...  PubMedAbstracts  yes   \n",
      "3  OBJECTIVE:\\r\\n\\r\\nTo examine whether watchful ...  PubMedAbstracts   no   \n",
      "4  BACKGROUND:\\r\\n\\r\\nInformation on patient symp...  PubMedAbstracts   no   \n",
      "8  The importance of the cervical spine in routin...  PubMedAbstracts   no   \n",
      "2  Otalgia is a common symptom in general practic...  PubMedAbstracts  yes   \n",
      "\n",
      "   length  \n",
      "6    1172  \n",
      "3    1161  \n",
      "4    2074  \n",
      "8     442  \n",
      "2    1107  \n"
     ]
    }
   ],
   "source": [
    "\n",
    "\n",
    "reviews['length'] = reviews['abstract'].map(lambda text: len(text))\n",
    "print(reviews.head())\n",
    "\n"
   ]
  },
  {
   "cell_type": "code",
   "execution_count": 48,
   "metadata": {},
   "outputs": [
    {
     "data": {
      "text/plain": [
       "<matplotlib.axes._subplots.AxesSubplot at 0x1af29175828>"
      ]
     },
     "execution_count": 48,
     "metadata": {},
     "output_type": "execute_result"
    },
    {
     "data": {
      "image/png": "[encoded data removed]",
      "text/plain": [
       "<Figure size 432x288 with 1 Axes>"
      ]
     },
     "metadata": {
      "needs_background": "light"
     },
     "output_type": "display_data"
    }
   ],
   "source": [
    "reviews.length.plot(bins=20, kind='hist') "
   ]
  },
  {
   "cell_type": "code",
   "execution_count": 49,
   "metadata": {},
   "outputs": [
    {
     "data": {
      "text/plain": [
       "count      10.000000\n",
       "mean     1075.200000\n",
       "std       518.736242\n",
       "min       311.000000\n",
       "25%       705.750000\n",
       "50%      1166.500000\n",
       "75%      1309.250000\n",
       "max      2074.000000\n",
       "Name: length, dtype: float64"
      ]
     },
     "execution_count": 49,
     "metadata": {},
     "output_type": "execute_result"
    }
   ],
   "source": [
    "reviews.length.describe()"
   ]
  },
  {
   "cell_type": "code",
   "execution_count": 50,
   "metadata": {},
   "outputs": [
    {
     "name": "stdout",
     "output_type": "stream",
     "text": [
      "[6, 3, 4, 2, 9, 5, 1]\n",
      "['PubMedAbstracts', 'PubMedAbstracts', 'PubMedAbstracts', 'PubMedAbstracts', 'PubMedAbstracts', 'PubMedAbstracts', 'PubMedAbstracts']\n",
      "['Many patient who present with otalgia have a normal otological examination, and a distant source of pain must be consider. The ear receive a extensive sensory innervation arise from six nerve root. Many other structure in the head, neck and thorax share a common neuronal pathway with the ear, and this tissue represent the possible site of disease in the case of refer otalgia. Consequently, the differential diagnosis be extensive and vary. make a accurate diagnosis rely on a understand of the complex distribution of nerve fibre and a structure approach to patient assessment. This article aim to classify the aetiology of refer otalgia and to outline current treatment for this condition. The origin of refer otalgia may be as remote as the cranial cavity and thorax; however, dental disease, tonsillitis, temporomandibular joint disorder and cervical spine pathology represent the much frequent cause. Ear pain may also be the first sign of a head and neck malignancy. patient complain of otalgia, with risk factor for a aerodigestive neoplasm, and a normal ENT examination require a urgent otolaryngological opinion.', 'OBJECTIVE: To examine whether watchful wait be a appropriate strategy for patient with earache, when there be no clear indication to prescribe antibiotic at the first visit. DESIGN: Case series of consecutive patient with unilateral earache. set: Rural family practice clinic and walk - in centre. participant: One hundred patient with unilateral earache. intervention: patient who clearly need antibiotic treatment be give it; other be advise about symptom relief and be follow up as necessary. MAIN OUTCOME measure: Whether patient return to the clinic, and whether antibiotic be subsequently prescribe. result: Two patient be prescribe antibiotic at the first visit. Of the remain 98 people, only four return to the clinic because of earache, and two of this be prescribe antibiotic. Thus, of 100 people with earache, four receive antibiotic prescription. conclusion: much people who present to primary care physician with earache do not need antibiotic for what appear to be a mostly self - limit condition. Both physician and patient should be educate about this.', 'BACKGROUND: Information on patient symptom can be obtain by patient self - report or medical record review. Both method have limitation. aim: To assess the agreement between self - report and documentation in the medical record of sign / symptom of respiratory illness ( fever, cough, runny nose, sore throat, headache, sinus problem, muscle ache, fatigue, earache, and chill ). method: respondent be 176 research participant in the Hutterite Influenza Prevention Study during the 2008 - 2009 influenza season with information about the presence or absence of sign / symptom from both self - report and primary care medical record. result: compare with medical record, low proportion of self - report fever, sore throat, earache, cough, and sinus problem be find. Total agreement between self - report and medical report of symptom range from 61 % ( for sore throat ) to 88 % ( for muscle ache and earache ), with kappa estimate vary from 0.05 ( for chill ) to 0.41 ( for cough ) and 0.51 ( for earache ). Negative agreement be considerably high ( from 68 % for sore throat to 93 % for muscle ache and earache ) than positive agreement ( from 13 % for chill to 58 % for earache ) for each symptom except cough where positive agreement ( 77 % ) be high than negative agreement ( 64 % ). agreement vary by age group. We find good agreement for earache ( kappa = 0. 62 ) and low agreement for headache, sinus problem, muscle ache, fatigue, and chill in old child ( age >5 year ) and adult. conclusion: agreement be variable depend on the specific symptom. Contrary to research in other patient population which suggest that clinician report few symptom than patient, we find that the medical record capture much symptom than selfreport. Symptom agreement and disagreement may be affect by the perspective of the person experience them, the observer, the symptom themselves, measurement error, the set in which the symptom be observe and record, and the broad community and cultural context of patient.', \"Otalgia be a common symptom in general practice and represent the sensation of pain in the ear. In four patient, three woman age 63, 57 and 37 year, and a man age 64 year, ear pain be find to be cause by laryngeal carcinoma ( two patient ), oropharyngeal carcinoma and nasopharyngeal carcinoma ( in a Turkish patient ). refer otalgia be a earache that be cause by a nonotologic source. In many case it be difficult to identify the underlay disease of refer otalgia. It may be the first symptom of a head - and - neck carcinoma. In case of otalgia with normal otologic finding, the differential diagnostic process must be specifically direct to the common sensory innervation of the ear and the head - and - neck structure. By carefully take the patient's history with special attention to epidemiological factor such as smoke and drink habit, racial trait, a positive family history of head - and - neck neoplasm and accompany complaint and by perform repeat ENT examination include advance image technique, long delay in diagnose head - and - neck cancer can be prevent.\", 'BACKGROUND: Otalgia be a common present symptom to the ENT clinic. The aetiology of otalgia can be divide into otological and refer depend on its underlie pathology. This article aim to provide a systematic and evidence - base method of manage a patient with refer otalgia. method: The datum in this article be base on a literature review perform on MEDLINE and EMBASE in January 2010. The keyword use include otalgia in combination with diagnosis, management, investigation and treatment. article in the English language be select and review. Suitable reference from this article be also review. result: The majority of publish literature on the management of disease cause refer otalgia be level III / IV evidence. conclusion: a understand of the different cause of refer otalgia be essential as it can be multifactorial in origin. The main concern in a patient with refer otalgia be overlook a malignant lesion in the upper aerodigestive tract or base of skull / infratemporal fossa. A thorough history follow by a systematic examination usually help to arrive at a diagnosis. Treatment should be direct towards the underlie pathology.', 'Many patient in primary care present with ear pain ( otalgia ). When the ear be the source of the pain ( primary otalgia ), the ear examination be usually abnormal. When the ear be not the source of the pain ( secondary otalgia ), the ear examination be typically normal. The cause of primary otalgia be usually apparent on examination; the much common cause be otitis medium and otitis externa. The cause of secondary otalgia be often difficult to determine because the innervation of the ear be complex and there be many potential source of refer pain. The much common cause be temporomandibular joint syndrome, pharyngitis, dental disease, and cervical spine arthritis. If the diagnosis be not clear from the history and physical examination, option include a trial of symptomatic treatment without a clear diagnosis; image study; and consultation with a otolaryngologist. patient who smoke, drink alcohol, be old than 50 year, or have diabetes be at high risk of a cause of ear pain that need far evaluation. patient whose history or physical examination increase suspicion for a serious occult cause of ear pain or whose symptom persist after symptomatic treatment should be consider for far evaluation, such as magnetic resonance image, fiberoptic nasolaryngoscopy, or a erythrocyte sedimentation rate measurement.', 'Introduction? a earache ( otalgia or ear pain ) be pain in one or both ear that may last a short or long time. Earache be prevalent in the population with temporomandibular joint disorder ( TMJDs ), but there be a dearth of epidemiologic study regard the association between TMJD and ear pain and ear fullness in old people. Objective? To assess the presence of earache and ear fullness in elderly patient with TMJD. method? A cross - sectional study be conduct in independently live, elderly individual. TMJD be assess by dental evaluation and earache be verify by medical history. Statistical analysis be perform use the chi - square test and relative risk. result? Of the 197 subject evaluate in this part of the study, 22 have earache, and 35 be verify by ear fullness. Of the 22 subject with earache, none have conductive or mix hear loss in the ear test. There be a significant association ( p? =? 0. 036 ) between the TMJD and earache ( odd ratio? =? 2. 3 ), but there be no significant association between the TMJD and ear fullness. Conclusion? this result highlight the importance of identify risk factor for earache that can be modify through specific intervention, which be essential in the prevention of future episode, as good as manage the process of treatment of elderly patient in general']\n"
     ]
    }
   ],
   "source": [
    "print(list(reviews.abstract[reviews.length > 1100].index)) #near the max for length of LemmatizedTweets\n",
    "print(list(reviews.source[reviews.length > 1100]))\n",
    "print(list(reviews.lemmatizedAbstract[reviews.length > 1100]))"
   ]
  },
  {
   "cell_type": "code",
   "execution_count": 51,
   "metadata": {},
   "outputs": [
    {
     "name": "stdout",
     "output_type": "stream",
     "text": [
      "Wall time: 78.1 ms\n"
     ]
    },
    {
     "data": {
      "text/plain": [
       "<matplotlib.axes._subplots.AxesSubplot at 0x1af291ecc88>"
      ]
     },
     "execution_count": 51,
     "metadata": {},
     "output_type": "execute_result"
    },
    {
     "data": {
      "image/png": "[encoded data removed]",
      "text/plain": [
       "<Figure size 432x288 with 1 Axes>"
      ]
     },
     "metadata": {
      "needs_background": "light"
     },
     "output_type": "display_data"
    }
   ],
   "source": [
    "%%time\n",
    "reviews.hist(column='length', by='source', bins=5)"
   ]
  },
  {
   "cell_type": "code",
   "execution_count": 52,
   "metadata": {},
   "outputs": [],
   "source": [
    "def split_into_tokens(review):\n",
    "    \n",
    "    #review = unicode(review, 'iso-8859-1')# in python 3 the default of str() previously python2 as unicode() is utf-8\n",
    "    return TextBlob(review).words"
   ]
  },
  {
   "cell_type": "code",
   "execution_count": 53,
   "metadata": {},
   "outputs": [
    {
     "data": {
      "text/plain": [
       "6    [Many, patients, who, present, with, otalgia, ...\n",
       "3    [OBJECTIVE, To, examine, whether, watchful, wa...\n",
       "4    [BACKGROUND, Information, on, patient, symptom...\n",
       "8    [The, importance, of, the, cervical, spine, in...\n",
       "2    [Otalgia, is, a, common, symptom, in, general,...\n",
       "Name: abstract, dtype: object"
      ]
     },
     "execution_count": 53,
     "metadata": {},
     "output_type": "execute_result"
    }
   ],
   "source": [
    "\n",
    "\n",
    "reviews.abstract.head().apply(split_into_tokens)\n",
    "\n"
   ]
  },
  {
   "cell_type": "code",
   "execution_count": 54,
   "metadata": {},
   "outputs": [
    {
     "data": {
      "text/plain": [
       "[('hello', 'JJ'),\n",
       " ('world', 'NN'),\n",
       " ('how', 'WRB'),\n",
       " ('is', 'VBZ'),\n",
       " ('it', 'PRP'),\n",
       " ('going', 'VBG')]"
      ]
     },
     "execution_count": 54,
     "metadata": {},
     "output_type": "execute_result"
    }
   ],
   "source": [
    "TextBlob(\"hello world, how is it going?\").tags"
   ]
  },
  {
   "cell_type": "code",
   "execution_count": 55,
   "metadata": {},
   "outputs": [
    {
     "name": "stderr",
     "output_type": "stream",
     "text": [
      "[nltk_data] Downloading package stopwords to\n",
      "[nltk_data]     C:\\Users\\m\\AppData\\Roaming\\nltk_data...\n",
      "[nltk_data]   Package stopwords is already up-to-date!\n"
     ]
    },
    {
     "data": {
      "text/plain": [
       "True"
      ]
     },
     "execution_count": 55,
     "metadata": {},
     "output_type": "execute_result"
    }
   ],
   "source": [
    "\n",
    "\n",
    "import nltk\n",
    "nltk.download('stopwords')\n",
    "\n"
   ]
  },
  {
   "cell_type": "code",
   "execution_count": 56,
   "metadata": {},
   "outputs": [],
   "source": [
    "from nltk.corpus import stopwords\n",
    "\n",
    "stop = stopwords.words('english')\n",
    "stop = stop + [u'a',u'b',u'c',u'd',u'e',u'f',u'g',u'h',u'i',u'j',u'k',u'l',u'm',u'n',u'o',u'p',u'q',u'r',u's',u't',u'v',u'w',u'x',u'y',u'z']"
   ]
  },
  {
   "cell_type": "code",
   "execution_count": 57,
   "metadata": {},
   "outputs": [
    {
     "data": {
      "text/plain": [
       "6    [many, patient, present, otalgia, normal, otol...\n",
       "3    [objective, examine, whether, watchful, waitin...\n",
       "4    [background, information, patient, symptom, ob...\n",
       "8    [importance, cervical, spine, routine, ent, pr...\n",
       "2    [otalgia, common, symptom, general, practice, ...\n",
       "Name: abstract, dtype: object"
      ]
     },
     "execution_count": 57,
     "metadata": {},
     "output_type": "execute_result"
    }
   ],
   "source": [
    "def split_into_lemmas(review):\n",
    "    #review = unicode(review, 'iso-8859-1')\n",
    "    review = review.lower()\n",
    "    #review = unicode(review, 'utf8').lower()\n",
    "    #review = str(review).lower()\n",
    "    words = TextBlob(review).words\n",
    "    # for each word, take its \"base form\" = lemma \n",
    "    return [word.lemma for word in words if word not in stop]\n",
    "\n",
    "reviews.abstract.head().apply(split_into_lemmas)"
   ]
  },
  {
   "cell_type": "code",
   "execution_count": 58,
   "metadata": {},
   "outputs": [
    {
     "name": "stdout",
     "output_type": "stream",
     "text": [
      "490\n",
      "Wall time: 78.1 ms\n"
     ]
    }
   ],
   "source": [
    "%%time\n",
    "# bag of words on the comments\n",
    "bow_transformer = CountVectorizer(analyzer=split_into_lemmas).fit(reviews['abstract'])\n",
    "print(len(bow_transformer.vocabulary_))\n"
   ]
  },
  {
   "cell_type": "code",
   "execution_count": 59,
   "metadata": {},
   "outputs": [
    {
     "name": "stdout",
     "output_type": "stream",
     "text": [
      "BACKGROUND:\r\n",
      "\r\n",
      "Information on patient symptoms can be obtained by patient self-report or medical records review. Both methods have limitations.\r\n",
      "AIMS:\r\n",
      "\r\n",
      "To assess the agreement between self-report and documentation in the medical records of signs/symptoms of respiratory illness (fever, cough, runny nose, sore throat, headache, sinus problems, muscle aches, fatigue, earache, and chills).\r\n",
      "METHODS:\r\n",
      "\r\n",
      "Respondents were 176 research participants in the Hutterite Influenza Prevention Study during the 2008-2009 influenza season with information about the presence or absence of signs/symptoms from both self-report and primary care medical records.\r\n",
      "RESULTS:\r\n",
      "\r\n",
      "Compared with medical records, lower proportions of self-reported fever, sore throat, earache, cough, and sinus problems were found. Total agreements between self-report and medical report of symptoms ranged from 61% (for sore throat) to 88% (for muscle aches and earache), with kappa estimates varying from 0.05 (for chills) to 0.41 (for cough) and 0.51 (for earache). Negative agreement was considerably higher (from 68% for sore throat to 93% for muscle aches and earache) than positive agreement (from 13% for chills to 58% for earache) for each symptom except cough where positive agreement (77%) was higher than negative agreement (64%). Agreements varied by age group. We found better agreement for earache (kappa = 0.62) and lower agreements for headache, sinus problems, muscle aches, fatigue, and chills in older children (aged >5 years) and adults.\r\n",
      "CONCLUSIONS:\r\n",
      "\r\n",
      "Agreements were variable depending on the specific symptom. Contrary to research in other patient populations which suggests that clinicians report fewer symptoms than patients, we found that the medical record captured more symptoms than selfreport. Symptom agreement and disagreement may be affected by the perspectives of the person experiencing them, the observer, the symptoms themselves, measurement error, the setting in which the symptoms were observed and recorded, and the broader community and cultural context of patients.\n"
     ]
    }
   ],
   "source": [
    "review4 = reviews['abstract'][4]\n",
    "print(review4)"
   ]
  },
  {
   "cell_type": "code",
   "execution_count": 60,
   "metadata": {},
   "outputs": [],
   "source": [
    "bow4 = bow_transformer.transform([review4])\n"
   ]
  },
  {
   "cell_type": "code",
   "execution_count": 61,
   "metadata": {},
   "outputs": [
    {
     "name": "stdout",
     "output_type": "stream",
     "text": [
      "sparse matrix shape: (10, 490)\n",
      "number of non-zeros: 700\n",
      "sparsity: 14.29%\n",
      "Wall time: 78.1 ms\n"
     ]
    }
   ],
   "source": [
    "%%time\n",
    "reviews_bow = bow_transformer.transform(reviews['abstract'])\n",
    "print('sparse matrix shape:', reviews_bow.shape)\n",
    "print('number of non-zeros:', reviews_bow.nnz)\n",
    "print('sparsity: %.2f%%' % (100.0 * reviews_bow.nnz / (reviews_bow.shape[0] * reviews_bow.shape[1])))"
   ]
  },
  {
   "cell_type": "code",
   "execution_count": 63,
   "metadata": {},
   "outputs": [
    {
     "name": "stdout",
     "output_type": "stream",
     "text": [
      "(8, 490)\n",
      "(2, 490)\n"
     ]
    }
   ],
   "source": [
    "\n",
    "#reviews was permutated earlier, so taking the order is random\n",
    "# Split/splice into training ~ 80% and testing ~ 20%\n",
    "reviews_bow_train = reviews_bow[:8]\n",
    "reviews_bow_test = reviews_bow[8:]\n",
    "reviews_sentiment_train = reviews['pain'][:8]\n",
    "reviews_sentiment_test = reviews['pain'][8:]\n",
    "\n",
    "print(reviews_bow_train.shape)\n",
    "print(reviews_bow_test.shape)\n",
    "\n"
   ]
  },
  {
   "cell_type": "code",
   "execution_count": 64,
   "metadata": {},
   "outputs": [
    {
     "data": {
      "text/plain": [
       "array(['yes'], dtype=object)"
      ]
     },
     "execution_count": 64,
     "metadata": {},
     "output_type": "execute_result"
    }
   ],
   "source": [
    "reviews_sentiment_test.unique()"
   ]
  },
  {
   "cell_type": "code",
   "execution_count": 65,
   "metadata": {},
   "outputs": [
    {
     "name": "stdout",
     "output_type": "stream",
     "text": [
      "Wall time: 0 ns\n"
     ]
    }
   ],
   "source": [
    "\n",
    "\n",
    "%time \n",
    "review_sentiment = MultinomialNB().fit(reviews_bow_train, reviews_sentiment_train)\n",
    "\n"
   ]
  },
  {
   "cell_type": "code",
   "execution_count": 67,
   "metadata": {},
   "outputs": [
    {
     "name": "stdout",
     "output_type": "stream",
     "text": [
      "predicted: no\n",
      "expected: no\n"
     ]
    }
   ],
   "source": [
    "\n",
    "print('predicted:', review_sentiment.predict(bow4)[0])\n",
    "print('expected:', reviews.pain[4])\n",
    "\n"
   ]
  },
  {
   "cell_type": "code",
   "execution_count": 68,
   "metadata": {},
   "outputs": [
    {
     "name": "stdout",
     "output_type": "stream",
     "text": [
      "['yes' 'yes']\n"
     ]
    }
   ],
   "source": [
    "\n",
    "\n",
    "predictions = review_sentiment.predict(reviews_bow_test)\n",
    "print(predictions)\n",
    "\n"
   ]
  },
  {
   "cell_type": "code",
   "execution_count": 69,
   "metadata": {},
   "outputs": [
    {
     "name": "stdout",
     "output_type": "stream",
     "text": [
      "accuracy 1.0\n",
      "confusion matrix\n",
      " [[2]]\n",
      "(row=expected, col=predicted)\n"
     ]
    }
   ],
   "source": [
    "print('accuracy', accuracy_score(reviews_sentiment_test, predictions))\n",
    "print('confusion matrix\\n', confusion_matrix(reviews_sentiment_test, predictions))\n",
    "print('(row=expected, col=predicted)')"
   ]
  },
  {
   "cell_type": "code",
   "execution_count": 70,
   "metadata": {},
   "outputs": [
    {
     "name": "stdout",
     "output_type": "stream",
     "text": [
      "              precision    recall  f1-score   support\n",
      "\n",
      "         yes       1.00      1.00      1.00         2\n",
      "\n",
      "    accuracy                           1.00         2\n",
      "   macro avg       1.00      1.00      1.00         2\n",
      "weighted avg       1.00      1.00      1.00         2\n",
      "\n"
     ]
    }
   ],
   "source": [
    "print(classification_report(reviews_sentiment_test, predictions))\n",
    "#The F1 score can be interpreted as a weighted average of the precision and recall, \n",
    "#where an F1 score reaches its best value at 1 and worst score at 0."
   ]
  },
  {
   "cell_type": "code",
   "execution_count": 71,
   "metadata": {},
   "outputs": [],
   "source": [
    "def predict_review(new_review): \n",
    "    new_sample = bow_transformer.transform([new_review])\n",
    "    print(new_review, np.around(review_sentiment.predict_proba(new_sample), decimals=2), \n",
    "          '\\n')"
   ]
  },
  {
   "cell_type": "markdown",
   "metadata": {},
   "source": [
    "### Values returned alphabatized for Type: no, yes are values returned in the array order"
   ]
  },
  {
   "cell_type": "code",
   "execution_count": 74,
   "metadata": {},
   "outputs": [
    {
     "name": "stdout",
     "output_type": "stream",
     "text": [
      "my ear hurts. [[0.06 0.94]] \n",
      "\n",
      "I have been in pain for a month. [[0.07 0.93]] \n",
      "\n",
      "The antibiotics aren't working. [[0.88 0.12]] \n",
      "\n",
      "I don't like spaghetti. [[0.5 0.5]] \n",
      "\n",
      "I cannot eat without my ear bugging me. [[0.03 0.97]] \n",
      "\n"
     ]
    }
   ],
   "source": [
    "predict_review('my ear hurts.')\n",
    "\n",
    "predict_review('I have been in pain for a month.')\n",
    "\n",
    "predict_review('The antibiotics aren\\'t working.')\n",
    "predict_review('I don\\'t like spaghetti.')\n",
    "\n",
    "predict_review('I cannot eat without my ear bugging me.')"
   ]
  },
  {
   "cell_type": "markdown",
   "metadata": {},
   "source": [
    "#### Using the input strings above, the 1st, 2nd, and 5th strings are pain likely, while it is a tie on the 4th string for pain, and the 3rd string is likely not pain.\n"
   ]
  },
  {
   "cell_type": "code",
   "execution_count": 76,
   "metadata": {},
   "outputs": [
    {
     "data": {
      "text/html": [
       "<div>\n",
       "<style scoped>\n",
       "    .dataframe tbody tr th:only-of-type {\n",
       "        vertical-align: middle;\n",
       "    }\n",
       "\n",
       "    .dataframe tbody tr th {\n",
       "        vertical-align: top;\n",
       "    }\n",
       "\n",
       "    .dataframe thead tr th {\n",
       "        text-align: left;\n",
       "    }\n",
       "\n",
       "    .dataframe thead tr:last-of-type th {\n",
       "        text-align: right;\n",
       "    }\n",
       "</style>\n",
       "<table border=\"1\" class=\"dataframe\">\n",
       "  <thead>\n",
       "    <tr>\n",
       "      <th></th>\n",
       "      <th colspan=\"8\" halign=\"left\">length</th>\n",
       "    </tr>\n",
       "    <tr>\n",
       "      <th></th>\n",
       "      <th>count</th>\n",
       "      <th>mean</th>\n",
       "      <th>std</th>\n",
       "      <th>min</th>\n",
       "      <th>25%</th>\n",
       "      <th>50%</th>\n",
       "      <th>75%</th>\n",
       "      <th>max</th>\n",
       "    </tr>\n",
       "    <tr>\n",
       "      <th>pain</th>\n",
       "      <th></th>\n",
       "      <th></th>\n",
       "      <th></th>\n",
       "      <th></th>\n",
       "      <th></th>\n",
       "      <th></th>\n",
       "      <th></th>\n",
       "      <th></th>\n",
       "    </tr>\n",
       "  </thead>\n",
       "  <tbody>\n",
       "    <tr>\n",
       "      <td>no</td>\n",
       "      <td>4.0</td>\n",
       "      <td>1224.250000</td>\n",
       "      <td>667.834498</td>\n",
       "      <td>442.0</td>\n",
       "      <td>981.25</td>\n",
       "      <td>1190.5</td>\n",
       "      <td>1433.50</td>\n",
       "      <td>2074.0</td>\n",
       "    </tr>\n",
       "    <tr>\n",
       "      <td>yes</td>\n",
       "      <td>6.0</td>\n",
       "      <td>975.833333</td>\n",
       "      <td>432.590068</td>\n",
       "      <td>311.0</td>\n",
       "      <td>705.75</td>\n",
       "      <td>1139.5</td>\n",
       "      <td>1297.25</td>\n",
       "      <td>1354.0</td>\n",
       "    </tr>\n",
       "  </tbody>\n",
       "</table>\n",
       "</div>"
      ],
      "text/plain": [
       "     length                                                                 \n",
       "      count         mean         std    min     25%     50%      75%     max\n",
       "pain                                                                        \n",
       "no      4.0  1224.250000  667.834498  442.0  981.25  1190.5  1433.50  2074.0\n",
       "yes     6.0   975.833333  432.590068  311.0  705.75  1139.5  1297.25  1354.0"
      ]
     },
     "execution_count": 76,
     "metadata": {},
     "output_type": "execute_result"
    }
   ],
   "source": [
    "reviews.groupby('pain').describe()"
   ]
  },
  {
   "cell_type": "markdown",
   "metadata": {},
   "source": [
    "If you get back the probabilities, it is because there weren't a bag of words generated or improperly set to the type\n",
    "instead of the comments or reviews."
   ]
  },
  {
   "cell_type": "code",
   "execution_count": null,
   "metadata": {},
   "outputs": [],
   "source": []
  }
 ],
 "metadata": {
  "kernelspec": {
   "display_name": "Python 3",
   "language": "python",
   "name": "python3"
  },
  "language_info": {
   "codemirror_mode": {
    "name": "ipython",
    "version": 3
   },
   "file_extension": ".py",
   "mimetype": "text/x-python",
   "name": "python",
   "nbconvert_exporter": "python",
   "pygments_lexer": "ipython3",
   "version": "3.6.9"
  }
 },
 "nbformat": 4,
 "nbformat_minor": 2
}
