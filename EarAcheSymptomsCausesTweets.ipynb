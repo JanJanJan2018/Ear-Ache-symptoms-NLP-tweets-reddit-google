{
 "cells": [
  {
   "cell_type": "markdown",
   "metadata": {},
   "source": [
    "## Ear Ache tweets, reddit, and google search compared to Glue Ear, Glioma, and TMJ tweets, reddit, and google search"
   ]
  },
  {
   "cell_type": "code",
   "execution_count": 154,
   "metadata": {},
   "outputs": [],
   "source": [
    "%matplotlib inline \n",
    "import pandas as pd \n",
    "import matplotlib.pyplot as plt \n",
    "from textblob import TextBlob \n",
    "import numpy as np \n",
    "from sklearn.feature_extraction.text import CountVectorizer \n",
    "from sklearn.naive_bayes import MultinomialNB \n",
    "from sklearn.metrics import classification_report, f1_score, accuracy_score, confusion_matrix \n",
    " \n",
    "np.random.seed(507) \n",
    " \n"
   ]
  },
  {
   "cell_type": "code",
   "execution_count": 155,
   "metadata": {},
   "outputs": [],
   "source": [
    "reviews = pd.read_csv('EarAchesOther.csv', encoding = 'unicode_escape') \n",
    "#the encoding needed for python3 handling nonASCII chars\n"
   ]
  },
  {
   "cell_type": "code",
   "execution_count": 156,
   "metadata": {},
   "outputs": [
    {
     "data": {
      "text/html": [
       "<div>\n",
       "<style scoped>\n",
       "    .dataframe tbody tr th:only-of-type {\n",
       "        vertical-align: middle;\n",
       "    }\n",
       "\n",
       "    .dataframe tbody tr th {\n",
       "        vertical-align: top;\n",
       "    }\n",
       "\n",
       "    .dataframe thead th {\n",
       "        text-align: right;\n",
       "    }\n",
       "</style>\n",
       "<table border=\"1\" class=\"dataframe\">\n",
       "  <thead>\n",
       "    <tr style=\"text-align: right;\">\n",
       "      <th></th>\n",
       "      <th>Comment</th>\n",
       "      <th>Type</th>\n",
       "      <th>Source</th>\n",
       "    </tr>\n",
       "  </thead>\n",
       "  <tbody>\n",
       "    <tr>\n",
       "      <td>0</td>\n",
       "      <td>Nov 28, 2012\\n I got antibiotics for the jaw, ...</td>\n",
       "      <td>earAche</td>\n",
       "      <td>twitter</td>\n",
       "    </tr>\n",
       "    <tr>\n",
       "      <td>1</td>\n",
       "      <td>Dec 8, 2013\\nthese antibiotics are not working...</td>\n",
       "      <td>earAche</td>\n",
       "      <td>twitter</td>\n",
       "    </tr>\n",
       "    <tr>\n",
       "      <td>2</td>\n",
       "      <td>Feb 19, 2011\\nSevere toothache still here...no...</td>\n",
       "      <td>earAche</td>\n",
       "      <td>twitter</td>\n",
       "    </tr>\n",
       "    <tr>\n",
       "      <td>3</td>\n",
       "      <td>Oct 19, 2017\\n7 straight days with unknownache...</td>\n",
       "      <td>earAche</td>\n",
       "      <td>twitter</td>\n",
       "    </tr>\n",
       "    <tr>\n",
       "      <td>4</td>\n",
       "      <td>Jun 15, 2014\\nnot really hun throat pain and u...</td>\n",
       "      <td>earAche</td>\n",
       "      <td>twitter</td>\n",
       "    </tr>\n",
       "  </tbody>\n",
       "</table>\n",
       "</div>"
      ],
      "text/plain": [
       "                                             Comment     Type   Source\n",
       "0  Nov 28, 2012\\n I got antibiotics for the jaw, ...  earAche  twitter\n",
       "1  Dec 8, 2013\\nthese antibiotics are not working...  earAche  twitter\n",
       "2  Feb 19, 2011\\nSevere toothache still here...no...  earAche  twitter\n",
       "3  Oct 19, 2017\\n7 straight days with unknownache...  earAche  twitter\n",
       "4  Jun 15, 2014\\nnot really hun throat pain and u...  earAche  twitter"
      ]
     },
     "execution_count": 156,
     "metadata": {},
     "output_type": "execute_result"
    }
   ],
   "source": [
    "reviews.head()\n"
   ]
  },
  {
   "cell_type": "code",
   "execution_count": 157,
   "metadata": {},
   "outputs": [
    {
     "data": {
      "text/html": [
       "<div>\n",
       "<style scoped>\n",
       "    .dataframe tbody tr th:only-of-type {\n",
       "        vertical-align: middle;\n",
       "    }\n",
       "\n",
       "    .dataframe tbody tr th {\n",
       "        vertical-align: top;\n",
       "    }\n",
       "\n",
       "    .dataframe thead th {\n",
       "        text-align: right;\n",
       "    }\n",
       "</style>\n",
       "<table border=\"1\" class=\"dataframe\">\n",
       "  <thead>\n",
       "    <tr style=\"text-align: right;\">\n",
       "      <th></th>\n",
       "      <th>Comment</th>\n",
       "      <th>Type</th>\n",
       "      <th>Source</th>\n",
       "    </tr>\n",
       "  </thead>\n",
       "  <tbody>\n",
       "    <tr>\n",
       "      <td>71</td>\n",
       "      <td>Some causes of unknown pain can be serious suc...</td>\n",
       "      <td>earAche</td>\n",
       "      <td>webMD</td>\n",
       "    </tr>\n",
       "    <tr>\n",
       "      <td>72</td>\n",
       "      <td>A cold, allergies, or a sinus infection can bl...</td>\n",
       "      <td>earAche</td>\n",
       "      <td>webMD</td>\n",
       "    </tr>\n",
       "    <tr>\n",
       "      <td>73</td>\n",
       "      <td>Your unknown makes and gets rid of wax all the...</td>\n",
       "      <td>earAche</td>\n",
       "      <td>webMD</td>\n",
       "    </tr>\n",
       "    <tr>\n",
       "      <td>74</td>\n",
       "      <td>Most of the time, your unknown does a great jo...</td>\n",
       "      <td>earAche</td>\n",
       "      <td>webMD</td>\n",
       "    </tr>\n",
       "    <tr>\n",
       "      <td>75</td>\n",
       "      <td>If your unknown hurts when you pull on your un...</td>\n",
       "      <td>earAche</td>\n",
       "      <td>webMD</td>\n",
       "    </tr>\n",
       "  </tbody>\n",
       "</table>\n",
       "</div>"
      ],
      "text/plain": [
       "                                              Comment     Type Source\n",
       "71  Some causes of unknown pain can be serious suc...  earAche  webMD\n",
       "72  A cold, allergies, or a sinus infection can bl...  earAche  webMD\n",
       "73  Your unknown makes and gets rid of wax all the...  earAche  webMD\n",
       "74  Most of the time, your unknown does a great jo...  earAche  webMD\n",
       "75  If your unknown hurts when you pull on your un...  earAche  webMD"
      ]
     },
     "execution_count": 157,
     "metadata": {},
     "output_type": "execute_result"
    }
   ],
   "source": [
    "reviews.tail()"
   ]
  },
  {
   "cell_type": "code",
   "execution_count": 158,
   "metadata": {},
   "outputs": [
    {
     "data": {
      "text/plain": [
       "(76, 3)"
      ]
     },
     "execution_count": 158,
     "metadata": {},
     "output_type": "execute_result"
    }
   ],
   "source": [
    "reviews.shape"
   ]
  },
  {
   "cell_type": "code",
   "execution_count": 160,
   "metadata": {},
   "outputs": [
    {
     "name": "stdout",
     "output_type": "stream",
     "text": [
      "                                              Comment     Type      Source\n",
      "43  crazy unknown pain HELP!\\n\\nLast week I was ta...  earAche      Reddit\n",
      "63  There are many different kinds of headaches, b...      tmj  healthline\n",
      "2   Feb 19, 2011\\nSevere toothache still here...no...  earAche     twitter\n",
      "23  Oct 11, 2009\\nunknown Solution - Watch That un...      tmj     twitter\n",
      "1   Dec 8, 2013\\nthese antibiotics are not working...  earAche     twitter\n",
      "                                              Comment     Type   Source\n",
      "56  I started clenching when my dose was increased...      tmj   Reddit\n",
      "51  unknown pain, can't figure out how to make it ...  earAche   Reddit\n",
      "46  Possible cause of unknown pain\\n\\nSo I got the...  earAche   Reddit\n",
      "42  Apr 9\\nBecause she?s a three-season athlete, e...   glioma  twitter\n",
      "19  Mar 15, 2010\\nwww.ToothTime.ca +99% Cheap Fitn...      tmj  twitter\n"
     ]
    }
   ],
   "source": [
    "reviews = reviews.reindex(np.random.permutation(reviews.index))\n",
    "\n",
    "print(reviews.head())\n",
    "print(reviews.tail())"
   ]
  },
  {
   "cell_type": "code",
   "execution_count": 161,
   "metadata": {},
   "outputs": [
    {
     "data": {
      "text/html": [
       "<div>\n",
       "<style scoped>\n",
       "    .dataframe tbody tr th:only-of-type {\n",
       "        vertical-align: middle;\n",
       "    }\n",
       "\n",
       "    .dataframe tbody tr th {\n",
       "        vertical-align: top;\n",
       "    }\n",
       "\n",
       "    .dataframe thead tr th {\n",
       "        text-align: left;\n",
       "    }\n",
       "\n",
       "    .dataframe thead tr:last-of-type th {\n",
       "        text-align: right;\n",
       "    }\n",
       "</style>\n",
       "<table border=\"1\" class=\"dataframe\">\n",
       "  <thead>\n",
       "    <tr>\n",
       "      <th></th>\n",
       "      <th colspan=\"4\" halign=\"left\">Comment</th>\n",
       "      <th colspan=\"4\" halign=\"left\">Source</th>\n",
       "    </tr>\n",
       "    <tr>\n",
       "      <th></th>\n",
       "      <th>count</th>\n",
       "      <th>unique</th>\n",
       "      <th>top</th>\n",
       "      <th>freq</th>\n",
       "      <th>count</th>\n",
       "      <th>unique</th>\n",
       "      <th>top</th>\n",
       "      <th>freq</th>\n",
       "    </tr>\n",
       "    <tr>\n",
       "      <th>Type</th>\n",
       "      <th></th>\n",
       "      <th></th>\n",
       "      <th></th>\n",
       "      <th></th>\n",
       "      <th></th>\n",
       "      <th></th>\n",
       "      <th></th>\n",
       "      <th></th>\n",
       "    </tr>\n",
       "  </thead>\n",
       "  <tbody>\n",
       "    <tr>\n",
       "      <td>earAche</td>\n",
       "      <td>32</td>\n",
       "      <td>32</td>\n",
       "      <td>Injury, infection, irritation in the unknown, ...</td>\n",
       "      <td>1</td>\n",
       "      <td>32</td>\n",
       "      <td>4</td>\n",
       "      <td>twitter</td>\n",
       "      <td>11</td>\n",
       "    </tr>\n",
       "    <tr>\n",
       "      <td>glioma</td>\n",
       "      <td>9</td>\n",
       "      <td>9</td>\n",
       "      <td>Jun 15, 2009\\nunknown News: Young Obama fan 'n...</td>\n",
       "      <td>1</td>\n",
       "      <td>9</td>\n",
       "      <td>2</td>\n",
       "      <td>twitter</td>\n",
       "      <td>8</td>\n",
       "    </tr>\n",
       "    <tr>\n",
       "      <td>glueEar</td>\n",
       "      <td>10</td>\n",
       "      <td>10</td>\n",
       "      <td>Nov 30\\nWatch Consultant ENT Surgeon, Mr Steph...</td>\n",
       "      <td>1</td>\n",
       "      <td>10</td>\n",
       "      <td>3</td>\n",
       "      <td>twitter</td>\n",
       "      <td>6</td>\n",
       "    </tr>\n",
       "    <tr>\n",
       "      <td>tmj</td>\n",
       "      <td>25</td>\n",
       "      <td>25</td>\n",
       "      <td>Mar 27, 2010\\nFatigue, unknown, unknownache, b...</td>\n",
       "      <td>1</td>\n",
       "      <td>25</td>\n",
       "      <td>3</td>\n",
       "      <td>twitter</td>\n",
       "      <td>18</td>\n",
       "    </tr>\n",
       "  </tbody>\n",
       "</table>\n",
       "</div>"
      ],
      "text/plain": [
       "        Comment                                                            \\\n",
       "          count unique                                                top   \n",
       "Type                                                                        \n",
       "earAche      32     32  Injury, infection, irritation in the unknown, ...   \n",
       "glioma        9      9  Jun 15, 2009\\nunknown News: Young Obama fan 'n...   \n",
       "glueEar      10     10  Nov 30\\nWatch Consultant ENT Surgeon, Mr Steph...   \n",
       "tmj          25     25  Mar 27, 2010\\nFatigue, unknown, unknownache, b...   \n",
       "\n",
       "             Source                       \n",
       "        freq  count unique      top freq  \n",
       "Type                                      \n",
       "earAche    1     32      4  twitter   11  \n",
       "glioma     1      9      2  twitter    8  \n",
       "glueEar    1     10      3  twitter    6  \n",
       "tmj        1     25      3  twitter   18  "
      ]
     },
     "execution_count": 161,
     "metadata": {},
     "output_type": "execute_result"
    }
   ],
   "source": [
    "\n",
    "\n",
    "reviews.groupby('Type').describe()\n",
    "\n"
   ]
  },
  {
   "cell_type": "code",
   "execution_count": 162,
   "metadata": {},
   "outputs": [
    {
     "name": "stdout",
     "output_type": "stream",
     "text": [
      "                                              Comment     Type      Source  \\\n",
      "43  crazy unknown pain HELP!\\n\\nLast week I was ta...  earAche      Reddit   \n",
      "63  There are many different kinds of headaches, b...      tmj  healthline   \n",
      "2   Feb 19, 2011\\nSevere toothache still here...no...  earAche     twitter   \n",
      "23  Oct 11, 2009\\nunknown Solution - Watch That un...      tmj     twitter   \n",
      "1   Dec 8, 2013\\nthese antibiotics are not working...  earAche     twitter   \n",
      "\n",
      "    length  \n",
      "43     689  \n",
      "63     446  \n",
      "2      132  \n",
      "23      56  \n",
      "1       88  \n"
     ]
    }
   ],
   "source": [
    "\n",
    "\n",
    "reviews['length'] = reviews['Comment'].map(lambda text: len(text))\n",
    "print(reviews.head())\n",
    "\n"
   ]
  },
  {
   "cell_type": "code",
   "execution_count": 163,
   "metadata": {},
   "outputs": [
    {
     "data": {
      "text/plain": [
       "<matplotlib.axes._subplots.AxesSubplot at 0x156d336cc50>"
      ]
     },
     "execution_count": 163,
     "metadata": {},
     "output_type": "execute_result"
    },
    {
     "data": {
      "image/png": "[encoded data removed]",
      "text/plain": [
       "<Figure size 432x288 with 1 Axes>"
      ]
     },
     "metadata": {
      "needs_background": "light"
     },
     "output_type": "display_data"
    }
   ],
   "source": [
    "reviews.length.plot(bins=20, kind='hist') "
   ]
  },
  {
   "cell_type": "code",
   "execution_count": 164,
   "metadata": {},
   "outputs": [
    {
     "data": {
      "text/plain": [
       "count      76.000000\n",
       "mean      306.552632\n",
       "std       294.508422\n",
       "min        54.000000\n",
       "25%       112.000000\n",
       "50%       164.000000\n",
       "75%       376.250000\n",
       "max      1426.000000\n",
       "Name: length, dtype: float64"
      ]
     },
     "execution_count": 164,
     "metadata": {},
     "output_type": "execute_result"
    }
   ],
   "source": [
    "reviews.length.describe()"
   ]
  },
  {
   "cell_type": "code",
   "execution_count": 165,
   "metadata": {},
   "outputs": [
    {
     "name": "stdout",
     "output_type": "stream",
     "text": [
      "[53, 50]\n",
      "['tmj', 'earAche']\n",
      "['Can impacted wisdom teeth cause unknown or naw pain/issues?\\nQuestion(s)\\n\\nI?m 24. I still have my wisdom teeth. I haven?t been to the dentist in yunknowns (no dental insurance). I know I have impacted wisdom teeth because I can see them when I open my mouth and how squished they look way in the back. They never fully grew in because there?s not enough room. Just my wisdom teeth alone can hurt or feel uncomfortable at times. My bottom teeth have become more crooked over the last couple yunknowns as well - I?m assuming because there?s not enough space in my mouth and the wisdom teeth are pushing them closer together.\\n\\nAnyways, I?ve noticed more crackling and popping in my jaw the last yunknown or so. It doesn?t always bother me just sort of an annoyance when I hunknown it. Today, however, I woke up with pretty horrible pain in my jaw - especially the left side. I found it painful to eat, yawn, or talk. I took some ibuprofen and continued on with my day.\\n\\nI also grind/clench my teeth when I sleep. I?ll sometimes wake up in the night or morning and feel myself clenching my teeth so hard. So, that could be an issue in itself.\\n\\nBut, today?s pain is the worst jaw pain I?ve ever had. Like I said, I usually don?t get the pain just the popping. I can feel the soreness close to my unknown as well. The right side doesn?t feel nunknownly as sore as the left side.', \"This is going to be a slightly winded discussion, But currently I am dealing with unknown pain/aches and referred headaches/neckaches. It started last Friday with a boil in my unknown, I mistakenly tried to pop it on Saturday and was irritated for a bit. Monday morning I had bad chills and felt very cold, I had a temperature of 100.8F which I went to an Urgent Care center where they looked in my unknown and didn't see much and diagnosed me with a viral flu like illness. The fever broke that day and haven't had a fever since.\\n\\n\\nHowever, Yesterday Morning my unknown was completely swollen and felt like oozing, but never saw anything come out. I went back to the Urgent care center where the doctor checked my vitals and lymph nodes but nothing out of the ordinary in that regard, he checked my unknowns and saw the inflammation on my unknown drum and then prescribed me with unknowndrops along with Oral antibiotics, Its day 2 now and am rather curious of how long it should take to get back to normal?\\n\\n\\nI think I am feeling better but my unknown is still hurting and the referred pain from it is bugging me badly. I can bend my neck fine with no issues or pain, the Mastoid is not tender to the touch, its just slight neck pain/nunknown unknown and headache, most is calmed down by Ibuprofen but is always kinda there. Will this go away with the unknown infection and is this unknown infection being treated correctly?\"]\n"
     ]
    }
   ],
   "source": [
    "print(list(reviews.Comment[reviews.length > 1100].index)) #near the max for length of LemmatizedTweets\n",
    "print(list(reviews.Type[reviews.length > 1100]))\n",
    "print(list(reviews.Comment[reviews.length > 1100]))"
   ]
  },
  {
   "cell_type": "code",
   "execution_count": 166,
   "metadata": {},
   "outputs": [
    {
     "name": "stdout",
     "output_type": "stream",
     "text": [
      "Wall time: 250 ms\n"
     ]
    },
    {
     "data": {
      "text/plain": [
       "array([[<matplotlib.axes._subplots.AxesSubplot object at 0x00000156D3340400>,\n",
       "        <matplotlib.axes._subplots.AxesSubplot object at 0x00000156D43FD390>],\n",
       "       [<matplotlib.axes._subplots.AxesSubplot object at 0x00000156D442A940>,\n",
       "        <matplotlib.axes._subplots.AxesSubplot object at 0x00000156D445AEF0>]],\n",
       "      dtype=object)"
      ]
     },
     "execution_count": 166,
     "metadata": {},
     "output_type": "execute_result"
    },
    {
     "data": {
      "image/png": "[encoded data removed]",
      "text/plain": [
       "<Figure size 432x288 with 4 Axes>"
      ]
     },
     "metadata": {
      "needs_background": "light"
     },
     "output_type": "display_data"
    }
   ],
   "source": [
    "%%time\n",
    "reviews.hist(column='length', by='Type', bins=10)"
   ]
  },
  {
   "cell_type": "code",
   "execution_count": 167,
   "metadata": {},
   "outputs": [],
   "source": [
    "def split_into_tokens(review):\n",
    "    \n",
    "    #review = unicode(review, 'iso-8859-1')# in python 3 the default of str() previously python2 as unicode() is utf-8\n",
    "    return TextBlob(review).words"
   ]
  },
  {
   "cell_type": "code",
   "execution_count": 168,
   "metadata": {},
   "outputs": [
    {
     "data": {
      "text/plain": [
       "43    [crazy, unknown, pain, HELP, Last, week, I, wa...\n",
       "63    [There, are, many, different, kinds, of, heada...\n",
       "2     [Feb, 19, 2011, Severe, toothache, still, here...\n",
       "23    [Oct, 11, 2009, unknown, Solution, Watch, That...\n",
       "1     [Dec, 8, 2013, these, antibiotics, are, not, w...\n",
       "Name: Comment, dtype: object"
      ]
     },
     "execution_count": 168,
     "metadata": {},
     "output_type": "execute_result"
    }
   ],
   "source": [
    "\n",
    "\n",
    "reviews.Comment.head().apply(split_into_tokens)\n",
    "\n"
   ]
  },
  {
   "cell_type": "code",
   "execution_count": 170,
   "metadata": {},
   "outputs": [
    {
     "data": {
      "text/plain": [
       "[('hello', 'JJ'),\n",
       " ('world', 'NN'),\n",
       " ('how', 'WRB'),\n",
       " ('is', 'VBZ'),\n",
       " ('it', 'PRP'),\n",
       " ('going', 'VBG')]"
      ]
     },
     "execution_count": 170,
     "metadata": {},
     "output_type": "execute_result"
    }
   ],
   "source": [
    "TextBlob(\"hello world, how is it going?\").tags"
   ]
  },
  {
   "cell_type": "code",
   "execution_count": 171,
   "metadata": {},
   "outputs": [
    {
     "name": "stderr",
     "output_type": "stream",
     "text": [
      "[nltk_data] Downloading package stopwords to\n",
      "[nltk_data]     C:\\Users\\m\\AppData\\Roaming\\nltk_data...\n",
      "[nltk_data]   Package stopwords is already up-to-date!\n"
     ]
    },
    {
     "data": {
      "text/plain": [
       "True"
      ]
     },
     "execution_count": 171,
     "metadata": {},
     "output_type": "execute_result"
    }
   ],
   "source": [
    "\n",
    "\n",
    "import nltk\n",
    "nltk.download('stopwords')\n",
    "\n"
   ]
  },
  {
   "cell_type": "code",
   "execution_count": 172,
   "metadata": {},
   "outputs": [],
   "source": [
    "from nltk.corpus import stopwords\n",
    "\n",
    "stop = stopwords.words('english')\n",
    "stop = stop + [u'a',u'b',u'c',u'd',u'e',u'f',u'g',u'h',u'i',u'j',u'k',u'l',u'm',u'n',u'o',u'p',u'q',u'r',u's',u't',u'v',u'w',u'x',u'y',u'z']"
   ]
  },
  {
   "cell_type": "code",
   "execution_count": 173,
   "metadata": {},
   "outputs": [
    {
     "data": {
      "text/plain": [
       "43    [crazy, unknown, pain, help, last, week, takin...\n",
       "63    [many, different, kind, headache, unknown, hea...\n",
       "2     [feb, 19, 2011, severe, toothache, still, also...\n",
       "23    [oct, 11, 2009, unknown, solution, watch, unkn...\n",
       "1     [dec, 8, 2013, antibiotic, working, still, got...\n",
       "Name: Comment, dtype: object"
      ]
     },
     "execution_count": 173,
     "metadata": {},
     "output_type": "execute_result"
    }
   ],
   "source": [
    "def split_into_lemmas(review):\n",
    "    #review = unicode(review, 'iso-8859-1')\n",
    "    review = review.lower()\n",
    "    #review = unicode(review, 'utf8').lower()\n",
    "    #review = str(review).lower()\n",
    "    words = TextBlob(review).words\n",
    "    # for each word, take its \"base form\" = lemma \n",
    "    return [word.lemma for word in words if word not in stop]\n",
    "\n",
    "reviews.Comment.head().apply(split_into_lemmas)"
   ]
  },
  {
   "cell_type": "code",
   "execution_count": 199,
   "metadata": {},
   "outputs": [
    {
     "name": "stdout",
     "output_type": "stream",
     "text": [
      "1004\n",
      "Wall time: 250 ms\n"
     ]
    }
   ],
   "source": [
    "%%time\n",
    "# bag of words on the comments\n",
    "bow_transformer = CountVectorizer(analyzer=split_into_lemmas).fit(reviews['Comment'])\n",
    "print(len(bow_transformer.vocabulary_))\n"
   ]
  },
  {
   "cell_type": "code",
   "execution_count": 200,
   "metadata": {},
   "outputs": [
    {
     "name": "stdout",
     "output_type": "stream",
     "text": [
      "Dec 12, 2011\n",
      "unknown or unknownache? Ouch I'm hurting!\n"
     ]
    }
   ],
   "source": [
    "review4 = reviews['Comment'][14]\n",
    "print(review4)"
   ]
  },
  {
   "cell_type": "code",
   "execution_count": 201,
   "metadata": {},
   "outputs": [],
   "source": [
    "bow4 = bow_transformer.transform([review4])\n"
   ]
  },
  {
   "cell_type": "code",
   "execution_count": 202,
   "metadata": {},
   "outputs": [
    {
     "name": "stdout",
     "output_type": "stream",
     "text": [
      "sparse matrix shape: (76, 1004)\n",
      "number of non-zeros: 1978\n",
      "sparsity: 2.59%\n",
      "Wall time: 234 ms\n"
     ]
    }
   ],
   "source": [
    "%%time\n",
    "reviews_bow = bow_transformer.transform(reviews['Comment'])\n",
    "print('sparse matrix shape:', reviews_bow.shape)\n",
    "print('number of non-zeros:', reviews_bow.nnz)\n",
    "print('sparsity: %.2f%%' % (100.0 * reviews_bow.nnz / (reviews_bow.shape[0] * reviews_bow.shape[1])))"
   ]
  },
  {
   "cell_type": "code",
   "execution_count": 203,
   "metadata": {},
   "outputs": [
    {
     "name": "stdout",
     "output_type": "stream",
     "text": [
      "(50, 1004)\n",
      "(26, 1004)\n"
     ]
    }
   ],
   "source": [
    "\n",
    "#reviews was permutated earlier, so taking the order is random\n",
    "# Split/splice into training ~ 80% and testing ~ 20%\n",
    "reviews_bow_train = reviews_bow[:50]\n",
    "reviews_bow_test = reviews_bow[50:]\n",
    "reviews_sentiment_train = reviews['Type'][:50]\n",
    "reviews_sentiment_test = reviews['Type'][50:]\n",
    "\n",
    "print(reviews_bow_train.shape)\n",
    "print(reviews_bow_test.shape)\n",
    "\n"
   ]
  },
  {
   "cell_type": "code",
   "execution_count": 204,
   "metadata": {},
   "outputs": [
    {
     "data": {
      "text/plain": [
       "array(['glueEar', 'tmj', 'earAche', 'glioma'], dtype=object)"
      ]
     },
     "execution_count": 204,
     "metadata": {},
     "output_type": "execute_result"
    }
   ],
   "source": [
    "reviews_sentiment_test.unique()"
   ]
  },
  {
   "cell_type": "code",
   "execution_count": 205,
   "metadata": {},
   "outputs": [
    {
     "name": "stdout",
     "output_type": "stream",
     "text": [
      "Wall time: 0 ns\n"
     ]
    }
   ],
   "source": [
    "\n",
    "\n",
    "%time \n",
    "review_sentiment = MultinomialNB().fit(reviews_bow_train, reviews_sentiment_train)\n",
    "\n"
   ]
  },
  {
   "cell_type": "code",
   "execution_count": 206,
   "metadata": {},
   "outputs": [
    {
     "name": "stdout",
     "output_type": "stream",
     "text": [
      "predicted: tmj\n",
      "expected: tmj\n"
     ]
    }
   ],
   "source": [
    "\n",
    "print('predicted:', review_sentiment.predict(bow4)[0])\n",
    "print('expected:', reviews.Type[14])\n",
    "\n"
   ]
  },
  {
   "cell_type": "code",
   "execution_count": 207,
   "metadata": {},
   "outputs": [
    {
     "name": "stdout",
     "output_type": "stream",
     "text": [
      "['glioma' 'glueEar' 'tmj' 'earAche' 'earAche' 'tmj' 'tmj' 'tmj' 'tmj'\n",
      " 'earAche' 'earAche' 'glueEar' 'tmj' 'glueEar' 'earAche' 'tmj' 'tmj'\n",
      " 'earAche' 'earAche' 'tmj' 'tmj' 'earAche' 'tmj' 'earAche' 'tmj' 'tmj']\n"
     ]
    }
   ],
   "source": [
    "\n",
    "\n",
    "predictions = review_sentiment.predict(reviews_bow_test)\n",
    "print(predictions)\n",
    "\n"
   ]
  },
  {
   "cell_type": "code",
   "execution_count": 208,
   "metadata": {},
   "outputs": [
    {
     "name": "stdout",
     "output_type": "stream",
     "text": [
      "accuracy 0.6153846153846154\n",
      "confusion matrix\n",
      " [[7 0 1 3]\n",
      " [0 0 0 3]\n",
      " [0 1 2 0]\n",
      " [2 0 0 7]]\n",
      "(row=expected, col=predicted)\n"
     ]
    }
   ],
   "source": [
    "print('accuracy', accuracy_score(reviews_sentiment_test, predictions))\n",
    "print('confusion matrix\\n', confusion_matrix(reviews_sentiment_test, predictions))\n",
    "print('(row=expected, col=predicted)')"
   ]
  },
  {
   "cell_type": "code",
   "execution_count": 209,
   "metadata": {},
   "outputs": [
    {
     "name": "stdout",
     "output_type": "stream",
     "text": [
      "              precision    recall  f1-score   support\n",
      "\n",
      "     earAche       0.78      0.64      0.70        11\n",
      "      glioma       0.00      0.00      0.00         3\n",
      "     glueEar       0.67      0.67      0.67         3\n",
      "         tmj       0.54      0.78      0.64         9\n",
      "\n",
      "    accuracy                           0.62        26\n",
      "   macro avg       0.50      0.52      0.50        26\n",
      "weighted avg       0.59      0.62      0.59        26\n",
      "\n"
     ]
    }
   ],
   "source": [
    "print(classification_report(reviews_sentiment_test, predictions))\n",
    "#The F1 score can be interpreted as a weighted average of the precision and recall, \n",
    "#where an F1 score reaches its best value at 1 and worst score at 0."
   ]
  },
  {
   "cell_type": "code",
   "execution_count": 210,
   "metadata": {},
   "outputs": [],
   "source": [
    "def predict_review(new_review): \n",
    "    new_sample = bow_transformer.transform([new_review])\n",
    "    print(new_review, np.around(review_sentiment.predict_proba(new_sample), decimals=2), \n",
    "          '\\n')"
   ]
  },
  {
   "cell_type": "code",
   "execution_count": 211,
   "metadata": {},
   "outputs": [
    {
     "name": "stdout",
     "output_type": "stream",
     "text": [
      "driving to the hospital. [[0.29 0.13 0.29 0.29]] \n",
      "\n",
      "teeth. [[0.26 0.03 0.03 0.68]] \n",
      "\n",
      "headphones. head phones. [[0.67 0.06 0.06 0.21]] \n",
      "\n",
      "sleeping. pain. [[0.64 0.07 0.04 0.26]] \n",
      "\n",
      "carbs galore and no energy [[0.42 0.12 0.14 0.32]] \n",
      "\n"
     ]
    }
   ],
   "source": [
    "# Values returned alphabatized for Type: earAche, glioma, glueEar, tmj\n",
    "predict_review('driving to the hospital.')\n",
    "\n",
    "predict_review('teeth.')\n",
    "\n",
    "predict_review('headphones. head phones.')\n",
    "predict_review('sleeping. pain.')\n",
    "\n",
    "predict_review('carbs galore and no energy')"
   ]
  },
  {
   "cell_type": "code",
   "execution_count": 139,
   "metadata": {},
   "outputs": [
    {
     "data": {
      "text/html": [
       "<div>\n",
       "<style scoped>\n",
       "    .dataframe tbody tr th:only-of-type {\n",
       "        vertical-align: middle;\n",
       "    }\n",
       "\n",
       "    .dataframe tbody tr th {\n",
       "        vertical-align: top;\n",
       "    }\n",
       "\n",
       "    .dataframe thead tr th {\n",
       "        text-align: left;\n",
       "    }\n",
       "\n",
       "    .dataframe thead tr:last-of-type th {\n",
       "        text-align: right;\n",
       "    }\n",
       "</style>\n",
       "<table border=\"1\" class=\"dataframe\">\n",
       "  <thead>\n",
       "    <tr>\n",
       "      <th></th>\n",
       "      <th colspan=\"8\" halign=\"left\">length</th>\n",
       "    </tr>\n",
       "    <tr>\n",
       "      <th></th>\n",
       "      <th>count</th>\n",
       "      <th>mean</th>\n",
       "      <th>std</th>\n",
       "      <th>min</th>\n",
       "      <th>25%</th>\n",
       "      <th>50%</th>\n",
       "      <th>75%</th>\n",
       "      <th>max</th>\n",
       "    </tr>\n",
       "    <tr>\n",
       "      <th>Type</th>\n",
       "      <th></th>\n",
       "      <th></th>\n",
       "      <th></th>\n",
       "      <th></th>\n",
       "      <th></th>\n",
       "      <th></th>\n",
       "      <th></th>\n",
       "      <th></th>\n",
       "    </tr>\n",
       "  </thead>\n",
       "  <tbody>\n",
       "    <tr>\n",
       "      <td>earAche</td>\n",
       "      <td>32.0</td>\n",
       "      <td>350.656250</td>\n",
       "      <td>295.912434</td>\n",
       "      <td>63.0</td>\n",
       "      <td>143.25</td>\n",
       "      <td>267.5</td>\n",
       "      <td>485.75</td>\n",
       "      <td>1426.0</td>\n",
       "    </tr>\n",
       "    <tr>\n",
       "      <td>glioma</td>\n",
       "      <td>9.0</td>\n",
       "      <td>175.777778</td>\n",
       "      <td>125.247533</td>\n",
       "      <td>76.0</td>\n",
       "      <td>108.00</td>\n",
       "      <td>153.0</td>\n",
       "      <td>163.00</td>\n",
       "      <td>492.0</td>\n",
       "    </tr>\n",
       "    <tr>\n",
       "      <td>glueEar</td>\n",
       "      <td>10.0</td>\n",
       "      <td>261.200000</td>\n",
       "      <td>149.005444</td>\n",
       "      <td>78.0</td>\n",
       "      <td>122.75</td>\n",
       "      <td>249.5</td>\n",
       "      <td>371.00</td>\n",
       "      <td>491.0</td>\n",
       "    </tr>\n",
       "    <tr>\n",
       "      <td>tmj</td>\n",
       "      <td>25.0</td>\n",
       "      <td>315.320000</td>\n",
       "      <td>366.667392</td>\n",
       "      <td>54.0</td>\n",
       "      <td>105.00</td>\n",
       "      <td>158.0</td>\n",
       "      <td>233.00</td>\n",
       "      <td>1371.0</td>\n",
       "    </tr>\n",
       "  </tbody>\n",
       "</table>\n",
       "</div>"
      ],
      "text/plain": [
       "        length                                                             \n",
       "         count        mean         std   min     25%    50%     75%     max\n",
       "Type                                                                       \n",
       "earAche   32.0  350.656250  295.912434  63.0  143.25  267.5  485.75  1426.0\n",
       "glioma     9.0  175.777778  125.247533  76.0  108.00  153.0  163.00   492.0\n",
       "glueEar   10.0  261.200000  149.005444  78.0  122.75  249.5  371.00   491.0\n",
       "tmj       25.0  315.320000  366.667392  54.0  105.00  158.0  233.00  1371.0"
      ]
     },
     "execution_count": 139,
     "metadata": {},
     "output_type": "execute_result"
    }
   ],
   "source": [
    "reviews.groupby('Type').describe()"
   ]
  },
  {
   "cell_type": "code",
   "execution_count": 140,
   "metadata": {},
   "outputs": [
    {
     "name": "stdout",
     "output_type": "stream",
     "text": [
      "0.42105263157894735\n",
      "0.11842105263157894\n",
      "0.13157894736842105\n",
      "0.32894736842105265\n"
     ]
    }
   ],
   "source": [
    "print(32/76)\n",
    "print(9/76)\n",
    "print(10/76)\n",
    "print(25/76)"
   ]
  },
  {
   "cell_type": "markdown",
   "metadata": {},
   "source": [
    "If you get back the probabilities, it is because there weren't a bag of words generated or improperly set to the type\n",
    "instead of the comments or reviews."
   ]
  },
  {
   "cell_type": "code",
   "execution_count": null,
   "metadata": {},
   "outputs": [],
   "source": []
  }
 ],
 "metadata": {
  "kernelspec": {
   "display_name": "Python 3",
   "language": "python",
   "name": "python3"
  },
  "language_info": {
   "codemirror_mode": {
    "name": "ipython",
    "version": 3
   },
   "file_extension": ".py",
   "mimetype": "text/x-python",
   "name": "python",
   "nbconvert_exporter": "python",
   "pygments_lexer": "ipython3",
   "version": "3.6.9"
  }
 },
 "nbformat": 4,
 "nbformat_minor": 2
}
